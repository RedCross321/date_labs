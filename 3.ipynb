{
 "cells": [
  {
   "cell_type": "markdown",
   "metadata": {},
   "source": [
    "# Машинное обучение, ФКН ВШЭ\n",
    "\n",
    "# Практическое задание 1\n",
    "\n",
    "## Общая информация\n",
    "\n",
    "### О задании\n",
    "\n",
    "Практическое задание 1 посвящено изучению основных библиотек для анализа данных, а также линейных моделей и методов их обучения. Вы научитесь:\n",
    " * применять библиотеки NumPy и Pandas для осуществления желаемых преобразований;\n",
    " * подготавливать данные для обучения линейных моделей;\n",
    " * обучать линейную, Lasso и Ridge-регрессии при помощи модуля scikit-learn;\n",
    " * реализовывать обычный и стохастический градиентные спуски;\n",
    " * обучать линейную регрессию для произвольного функционала качества.\n",
    " \n",
    "\n",
    "### Оценивание и штрафы\n",
    "\n",
    "Каждая из задач имеет определенную «стоимость» (указана в скобках около задачи). Максимально допустимая оценка за работу — 10 баллов. Кроме того, некоторые из заданий являются опциональными (необязательными), однако за их выполнение можно получить дополнительные баллы.\n",
    "\n",
    "Сдавать задание после указанного срока сдачи нельзя. При выставлении неполного балла за задание в связи с наличием ошибок на усмотрение проверяющего предусмотрена возможность исправить работу на указанных в ответном письме условиях.\n",
    "\n",
    "Задание выполняется самостоятельно. «Похожие» решения считаются плагиатом и все задействованные студенты (в том числе те, у кого списали) не могут получить за него больше 0 баллов. Если вы нашли решение какого-то из заданий (или его часть) в открытом источнике, необходимо указать ссылку на этот источник в отдельном блоке в конце Вашей работы (скорее всего вы будете не единственным, кто это нашел, поэтому чтобы исключить подозрение в плагиате, необходима ссылка на источник). \n",
    "\n",
    "Неэффективная реализация кода может негативно отразиться на оценке.\n",
    "\n",
    "\n",
    "### Формат сдачи\n",
    "Для сдачи задания переименуйте получившийся файл \\*.ipynb в соответствии со следующим форматом: *HW1_Username.ipynb*, где *Username* — Ваша фамилия и инициалы на латинице (например, *HW1_IvanovII.ipynb*). Далее отправьте этот файл на Smorodinov-1990@mail.ru."
   ]
  },
  {
   "cell_type": "markdown",
   "metadata": {},
   "source": [
    "## Библиотеки для анализа данных\n",
    "\n",
    "### NumPy\n",
    "\n",
    "Во всех заданиях данного раздела запрещено использовать циклы  и list comprehensions. Под вектором и матрицей в данных заданиях понимается одномерный и двумерный numpy.array соответственно."
   ]
  },
  {
   "cell_type": "code",
   "execution_count": 2,
   "metadata": {
    "collapsed": true
   },
   "outputs": [],
   "source": [
    "import numpy as np"
   ]
  },
  {
   "cell_type": "markdown",
   "metadata": {},
   "source": [
    "**1. (0.2 балла)** Реализуйте функцию, возвращающую максимальный элемент в векторе x среди элементов, перед которыми стоит нулевой. Для x = np.array([6, 2, 0, 3, 0, 0, 5, 7, 0]) ответом является 5. Если нулевых элементов нет, функция должна возвращать None.\n"
   ]
  },
  {
   "cell_type": "code",
   "execution_count": null,
   "metadata": {
    "collapsed": true
   },
   "outputs": [
    {
     "name": "stdout",
     "output_type": "stream",
     "text": [
      "None\n"
     ]
    }
   ],
   "source": [
    "def max_element(arr):\n",
    "\n",
    "    idx = np.where(arr == 0)[0]\n",
    "\n",
    "    if len(idx) == 0:\n",
    "        return 'None'\n",
    "    elif idx[-1] == len(arr) - 1:\n",
    "        idx = np.delete(idx, -1)\n",
    "        \n",
    "    arr_new = arr[idx+1]\n",
    "    return np.max(arr_new)\n",
    "\n",
    "x = np.array([6, 2, 3, 5, 7, 1])\n",
    "print(max_element(x))    "
   ]
  },
  {
   "cell_type": "markdown",
   "metadata": {},
   "source": [
    "**2. (0.2 балла)** Реализуйте функцию, принимающую на вход матрицу и некоторое число и возвращающую ближайший к числу элемент матрицы. Например: для X = np.arange(0,10).reshape((2, 5)) и v = 3.6 ответом будет 4."
   ]
  },
  {
   "cell_type": "code",
   "execution_count": 48,
   "metadata": {
    "collapsed": true
   },
   "outputs": [
    {
     "name": "stdout",
     "output_type": "stream",
     "text": [
      "Исходная матрица:\n",
      " [[ 0  1  2  3  4  5  6]\n",
      " [ 7  8  9 10 11 12 13]\n",
      " [14 15 16 17 18 19 20]]\n",
      "Число:\n",
      " 6555\n",
      "Ближайшее число в матрице: 20\n"
     ]
    }
   ],
   "source": [
    "def nearest_value(X, v):\n",
    "    \n",
    "    new_X = np.array(X).flatten()\n",
    "\n",
    "    idx = np.argmin(abs(new_X - v))\n",
    "\n",
    "    return new_X[idx]\n",
    "\n",
    "X = np.arange(0,21).reshape((3, 7))\n",
    "v = 6555\n",
    "\n",
    "print('Исходная матрица:\\n', X)\n",
    "print('Число:\\n', v)\n",
    "print('Ближайшее число в матрице:', nearest_value(X, v))"
   ]
  },
  {
   "cell_type": "markdown",
   "metadata": {},
   "source": [
    "**3. (0.2 балла)** Реализуйте функцию scale(X), которая принимает на вход матрицу и масштабирует каждый ее столбец (вычитает выборочное среднее и делит на стандартное отклонение). Убедитесь, что в функции не будет происходить деления на ноль. Протестируйте на случайной матрице (для её генерации можно использовать, например, функцию [numpy.random.randint](http://docs.scipy.org/doc/numpy/reference/generated/numpy.random.randint.html))."
   ]
  },
  {
   "cell_type": "code",
   "execution_count": 3,
   "metadata": {
    "collapsed": true
   },
   "outputs": [
    {
     "name": "stdout",
     "output_type": "stream",
     "text": [
      "Исходная матрица:\n",
      " [[ 5 20 14  2  7  5  6]\n",
      " [ 2 15 19  9 18 14 10]\n",
      " [17  6 11  8  0  3  9]]\n",
      "\n",
      "Итоговая матрица:\n",
      " [[-0.4629  1.0933 -0.202  -1.4018 -0.18   -0.4877 -1.3728]\n",
      " [-0.9258  0.2302  1.3132  0.8627  1.3048  1.3935  0.9806]\n",
      " [ 1.3887 -1.3235 -1.1112  0.5392 -1.1248 -0.9058  0.3922]]\n"
     ]
    }
   ],
   "source": [
    "def scale(X):\n",
    "    \n",
    "    stds = np.std(X, axis=0)\n",
    "\n",
    "    stds[stds == 0] = 1\n",
    "\n",
    "    new_X = (X - np.mean(X, axis=0)) / stds\n",
    "\n",
    "    return np.round(new_X, 4)\n",
    "\n",
    "X = np.random.randint(0, 21, size=(3, 7))\n",
    "\n",
    "print('Исходная матрица:\\n', X)\n",
    "print('\\nИтоговая матрица:\\n', scale(X))"
   ]
  },
  {
   "cell_type": "markdown",
   "metadata": {},
   "source": [
    "**4. (0.2 балла)** Реализуйте функцию, которая для заданной матрицы находит:\n",
    " - определитель\n",
    " - след\n",
    " - наименьший и наибольший элементы\n",
    " - норму Фробениуса\n",
    " - собственные числа\n",
    " - обратную матрицу\n",
    "\n",
    "Для тестирования сгенерируйте матрицу с элементами из нормального распределения $\\mathcal{N}$(10,1)"
   ]
  },
  {
   "cell_type": "code",
   "execution_count": 4,
   "metadata": {
    "collapsed": false
   },
   "outputs": [
    {
     "name": "stdout",
     "output_type": "stream",
     "text": [
      "Исходная матрица:\n",
      "[[11.80660785  9.96986585 10.62189649]\n",
      " [ 9.83496744 10.37673615  9.7902849 ]\n",
      " [ 9.45070124 10.18643032  8.63103788]]\n",
      "\n",
      "Характеристики матрицы:\n",
      "\n",
      "Определитель: -21.3924\n",
      "След: 30.8144\n",
      "Наименьший элемент: 8.6310\n",
      "Наибольший элемент: 11.8066\n",
      "Норма Фробениуса: 30.3224\n",
      "\n",
      "Собственные числа:\n",
      "[30.26858974  1.15676542 -0.61097328]\n",
      "\n",
      "Обратная матрица:\n",
      "[[ 0.47521772 -1.03536344  0.58959184]\n",
      " [-0.35709307 -0.07100225  0.51999979]\n",
      " [-0.09890318  1.21748626 -1.1434312 ]]\n"
     ]
    }
   ],
   "source": [
    "def get_stats(X):\n",
    "\n",
    "    det = np.linalg.det(X)\n",
    "    \n",
    "    trace = np.trace(X)\n",
    "    \n",
    "    min_elem = np.min(X)\n",
    "    max_elem = np.max(X)\n",
    "    \n",
    "    frob_norm = np.linalg.norm(X, 'fro')\n",
    "    \n",
    "    eigenvals = np.linalg.eigvals(X)\n",
    "    \n",
    "    try:\n",
    "        inv_matrix = np.linalg.inv(X)\n",
    "    except np.linalg.LinAlgError:\n",
    "        inv_matrix = \"Матрица вырожденная, обратной матрицы не существует\"\n",
    "    \n",
    "    return {\n",
    "        'determinant': det,\n",
    "        'trace': trace,\n",
    "        'min_element': min_elem,\n",
    "        'max_element': max_elem,\n",
    "        'frobenius_norm': frob_norm,\n",
    "        'eigenvalues': eigenvals,\n",
    "        'inverse_matrix': inv_matrix\n",
    "    }\n",
    "\n",
    "X = np.random.normal(loc=10, scale=1, size=(3, 3))\n",
    "print(\"Исходная матрица:\")\n",
    "print(X)\n",
    "print(\"\\nХарактеристики матрицы:\")\n",
    "stats = get_stats(X)\n",
    "\n",
    "print(f\"\\nОпределитель: {stats['determinant']:.4f}\")\n",
    "print(f\"След: {stats['trace']:.4f}\")\n",
    "print(f\"Наименьший элемент: {stats['min_element']:.4f}\")\n",
    "print(f\"Наибольший элемент: {stats['max_element']:.4f}\")\n",
    "print(f\"Норма Фробениуса: {stats['frobenius_norm']:.4f}\")\n",
    "print(\"\\nСобственные числа:\")\n",
    "print(stats['eigenvalues'])\n",
    "print(\"\\nОбратная матрица:\")\n",
    "print(stats['inverse_matrix'])\n"
   ]
  },
  {
   "cell_type": "markdown",
   "metadata": {},
   "source": [
    "**5. (0.2 балла)** Повторите 100 раз следующий эксперимент: сгенерируйте две матрицы размера 10×10 из стандартного нормального распределения, перемножьте их (как матрицы) и найдите максимальный элемент. Какое среднее значение по экспериментам у максимальных элементов? 95-процентная квантиль?"
   ]
  },
  {
   "cell_type": "code",
   "execution_count": 5,
   "metadata": {
    "collapsed": true
   },
   "outputs": [
    {
     "name": "stdout",
     "output_type": "stream",
     "text": [
      "Среднее значение максимальных элементов: 8.2339\n",
      "95-процентная квантиль: 11.3568\n"
     ]
    }
   ],
   "source": [
    "max_elements = np.zeros(100)\n",
    "\n",
    "for exp_num in range(100):\n",
    "    A = np.random.normal(0, 1, size=(10, 10))\n",
    "    B = np.random.normal(0, 1, size=(10, 10))\n",
    "    \n",
    "    C = np.dot(A, B)\n",
    "    \n",
    "    max_elements[exp_num] = np.max(C)\n",
    "\n",
    "mean_max = np.mean(max_elements)\n",
    "percentile_95 = np.percentile(max_elements, 95)\n",
    "\n",
    "print(f\"Среднее значение максимальных элементов: {mean_max:.4f}\")\n",
    "print(f\"95-процентная квантиль: {percentile_95:.4f}\")\n"
   ]
  },
  {
   "cell_type": "markdown",
   "metadata": {},
   "source": [
    "### Pandas\n",
    "\n",
    "![](https://metrouk2.files.wordpress.com/2015/10/panda.jpg)\n",
    "\n",
    "#### Ответьте на вопросы о данных по авиарейсам в США за январь-апрель 2008 года.\n",
    "\n",
    "[Данные](https://www.kaggle.com/datasets/prajitdatta/data-stories-of-us-airlines)."
   ]
  },
  {
   "cell_type": "code",
   "execution_count": 6,
   "metadata": {
    "collapsed": true
   },
   "outputs": [],
   "source": [
    "import pandas as pd\n",
    "%matplotlib inline"
   ]
  },
  {
   "cell_type": "markdown",
   "metadata": {},
   "source": [
    "**6. (0.3 балла)** Какая из причин отмены рейса (`CancellationCode`) была самой частой? (расшифровки кодов можно найти в описании данных)"
   ]
  },
  {
   "cell_type": "code",
   "execution_count": null,
   "metadata": {
    "collapsed": true
   },
   "outputs": [
    {
     "name": "stdout",
     "output_type": "stream",
     "text": [
      "\n",
      "Самая частая причина отмены рейса: Weather\n"
     ]
    }
   ],
   "source": [
    "df = pd.read_csv('airline_dec_2008_50k.csv', low_memory=False)\n",
    "\n",
    "codes = {\n",
    "    'A': 'Carrier',\n",
    "    'B': 'Weather',\n",
    "    'C': 'National Air System',\n",
    "    'D': 'Security'\n",
    "}\n",
    "\n",
    "counts = df['CancellationCode'].value_counts()\n",
    "\n",
    "print(f\"\\nСамая частая причина отмены рейса: {codes[counts.index[0]]}\")\n"
   ]
  },
  {
   "cell_type": "markdown",
   "metadata": {},
   "source": [
    "**7. (0.3 балла)** Найдите среднее, минимальное и максимальное расстояние, пройденное самолетом."
   ]
  },
  {
   "cell_type": "code",
   "execution_count": 16,
   "metadata": {
    "collapsed": true
   },
   "outputs": [
    {
     "name": "stdout",
     "output_type": "stream",
     "text": [
      "Среднее расстояние 572.15812\n",
      "Минимальное расстояние 30\n",
      "Максимальное расстояние 3303\n"
     ]
    }
   ],
   "source": [
    "\n",
    "print('Среднее расстояние', df['Distance'].mean())\n",
    "print('Минимальное расстояние', df['Distance'].min())\n",
    "print('Максимальное расстояние', df['Distance'].max())\n"
   ]
  },
  {
   "cell_type": "markdown",
   "metadata": {},
   "source": [
    "**8. (0.3 балла)** Не выглядит ли подозрительным минимальное пройденное расстояние? В какие дни и на каких рейсах оно было? Какое расстояние было пройдено этими же рейсами в другие дни?"
   ]
  },
  {
   "cell_type": "code",
   "execution_count": null,
   "metadata": {
    "collapsed": true
   },
   "outputs": [
    {
     "name": "stdout",
     "output_type": "stream",
     "text": [
      "\n",
      "Количество рейсов с минимальным расстоянием: 1\n",
      "\n",
      "Информация о рейсах с минимальным расстоянием:\n",
      "       Year  Month  DayofMonth  FlightNum\n",
      "16788  2008     12          31       5613\n",
      "\n",
      "\n",
      "       Year  Month  DayofMonth  Distance\n",
      "433    2008     12           1       403\n",
      "15982  2008     12          28       429\n",
      "16788  2008     12          31        30\n",
      "19656  2008     12           1       429\n",
      "22266  2008     12           2       429\n",
      "24371  2008     12           2       403\n",
      "25164  2008     12           3       429\n",
      "27058  2008     12           3       403\n",
      "28344  2008     12           4       429\n",
      "29541  2008     12           4       403\n",
      "29882  2008     12           5       429\n",
      "32027  2008     12           5       403\n",
      "32300  2008     12           6       429\n",
      "34265  2008     12           7       429\n",
      "35642  2008     12           7       403\n",
      "36028  2008     12           8       429\n",
      "38133  2008     12           8       403\n",
      "38515  2008     12           9       429\n",
      "40787  2008     12          10       429\n",
      "42824  2008     12          10       403\n",
      "43399  2008     12          11       429\n",
      "45314  2008     12          11       403\n",
      "46374  2008     12          12       429\n",
      "48284  2008     12          12       403\n",
      "48617  2008     12          13       429\n"
     ]
    }
   ],
   "source": [
    "\n",
    "min_distance = df['Distance'].min()\n",
    "\n",
    "min_distance_flights = df[df['Distance'] == min_distance]\n",
    "\n",
    "print(f\"\\nКоличество рейсов с минимальным расстоянием: {len(min_distance_flights)}\")\n",
    "\n",
    "\n",
    "print(\"\\nИнформация о рейсах с минимальным расстоянием:\")\n",
    "print(min_distance_flights[['Year', 'Month', 'DayofMonth', \"FlightNum\"]].to_string())\n",
    "\n",
    "flight = df[df['FlightNum'] == 5613]\n",
    "print('\\n')\n",
    "print(flight[['Year', 'Month', 'DayofMonth', \"Distance\"]].to_string())\n"
   ]
  },
  {
   "cell_type": "markdown",
   "metadata": {},
   "source": [
    "**9. (0.3 балла)** Из какого аэропорта было произведено больше всего вылетов? В каком городе он находится?"
   ]
  },
  {
   "cell_type": "code",
   "execution_count": 30,
   "metadata": {
    "collapsed": true
   },
   "outputs": [
    {
     "name": "stdout",
     "output_type": "stream",
     "text": [
      "Аэропорт с наибольшим количеством вылетов: ORD\n",
      "Количество вылетов: 3056\n"
     ]
    },
    {
     "name": "stderr",
     "output_type": "stream",
     "text": [
      "C:\\Users\\Red\\AppData\\Local\\Temp\\ipykernel_15836\\204849054.py:5: FutureWarning: Series.__getitem__ treating keys as positions is deprecated. In a future version, integer keys will always be treated as labels (consistent with DataFrame behavior). To access a value by position, use `ser.iloc[pos]`\n",
      "  most_departures_count = departure_counts[0]\n"
     ]
    }
   ],
   "source": [
    "departure_counts = df['Origin'].value_counts()\n",
    "\n",
    "most_departures_airport = departure_counts.index[0]\n",
    "most_departures_count = departure_counts[0]\n",
    "\n",
    "print(f\"Аэропорт с наибольшим количеством вылетов: {most_departures_airport}\")\n",
    "print(f\"Количество вылетов: {most_departures_count}\")"
   ]
  },
  {
   "cell_type": "markdown",
   "metadata": {},
   "source": [
    "**10. (0.3 балла)** Найдите для каждого аэропорта среднее время полета (`AirTime`) по всем вылетевшим из него рейсам. Какой аэропорт имеет наибольшее значение этого показателя?"
   ]
  },
  {
   "cell_type": "code",
   "execution_count": 35,
   "metadata": {
    "collapsed": true
   },
   "outputs": [
    {
     "name": "stdout",
     "output_type": "stream",
     "text": [
      "Origin\n",
      "PSE    182.120000\n",
      "SJU    176.877551\n",
      "BQN    163.736842\n",
      "JFK    153.579151\n",
      "ANC    144.278075\n",
      "          ...    \n",
      "SCC           NaN\n",
      "STT           NaN\n",
      "TEX           NaN\n",
      "WRG           NaN\n",
      "YAK           NaN\n",
      "Name: AirTime, Length: 278, dtype: float64\n",
      "\n",
      "\n",
      "Аэропорт с наибольшим средним временем полета: PSE\n",
      "Среднее время полета: 182.12 минут\n"
     ]
    },
    {
     "name": "stderr",
     "output_type": "stream",
     "text": [
      "C:\\Users\\Red\\AppData\\Local\\Temp\\ipykernel_15836\\3191595071.py:4: FutureWarning: Series.__getitem__ treating keys as positions is deprecated. In a future version, integer keys will always be treated as labels (consistent with DataFrame behavior). To access a value by position, use `ser.iloc[pos]`\n",
      "  max_airtime = airport_avg_airtime[0]\n"
     ]
    }
   ],
   "source": [
    "airport_avg_airtime = df.groupby('Origin')['AirTime'].mean().sort_values(ascending=False)\n",
    "\n",
    "max_airtime_airport = airport_avg_airtime.index[0]\n",
    "max_airtime = airport_avg_airtime[0]\n",
    "print(airport_avg_airtime)\n",
    "print('\\n')\n",
    "print(f\"Аэропорт с наибольшим средним временем полета: {max_airtime_airport}\")\n",
    "print(f\"Среднее время полета: {max_airtime:.2f} минут\")"
   ]
  },
  {
   "cell_type": "markdown",
   "metadata": {},
   "source": [
    "**11. (0.5 балла)** Найдите аэропорт, у которого наибольшая доля задержанных (`DepDelay > 0`) рейсов. Исключите при этом из рассмотрения аэропорты, из которых было отправлено меньше 1000 рейсов (используйте функцию `filter` после `groupby`)."
   ]
  },
  {
   "cell_type": "code",
   "execution_count": 36,
   "metadata": {
    "collapsed": false
   },
   "outputs": [
    {
     "name": "stdout",
     "output_type": "stream",
     "text": [
      "Аэропорт с наибольшей долей задержанных рейсов: LAX\n",
      "Доля задержанных рейсов: 26.94%\n"
     ]
    },
    {
     "name": "stderr",
     "output_type": "stream",
     "text": [
      "C:\\Users\\Red\\AppData\\Local\\Temp\\ipykernel_15836\\3515520594.py:5: DeprecationWarning: DataFrameGroupBy.apply operated on the grouping columns. This behavior is deprecated, and in a future version of pandas the grouping columns will be excluded from the operation. Either pass `include_groups=False` to exclude the groupings or explicitly select the grouping columns after groupby to silence this warning.\n",
      "  airport_delay_ratios = airport_delays.groupby('Origin').apply(delayed_ratio).sort_values(ascending=False)\n",
      "C:\\Users\\Red\\AppData\\Local\\Temp\\ipykernel_15836\\3515520594.py:8: FutureWarning: Series.__getitem__ treating keys as positions is deprecated. In a future version, integer keys will always be treated as labels (consistent with DataFrame behavior). To access a value by position, use `ser.iloc[pos]`\n",
      "  max_delay_ratio = airport_delay_ratios[0]\n"
     ]
    }
   ],
   "source": [
    "def delayed_ratio(group):\n",
    "    return (group['DepDelay'] > 0).mean()\n",
    "\n",
    "airport_delays = df.groupby('Origin').filter(lambda x: len(x) >= 1000)\n",
    "airport_delay_ratios = airport_delays.groupby('Origin').apply(delayed_ratio).sort_values(ascending=False)\n",
    "\n",
    "max_delay_airport = airport_delay_ratios.index[0]\n",
    "max_delay_ratio = airport_delay_ratios[0]\n",
    "\n",
    "print(f\"Аэропорт с наибольшей долей задержанных рейсов: {max_delay_airport}\")\n",
    "print(f\"Доля задержанных рейсов: {max_delay_ratio:.2%}\")"
   ]
  },
  {
   "cell_type": "markdown",
   "metadata": {},
   "source": [
    "## Линейная регрессия\n",
    "\n",
    "В этой части мы разберемся с линейной регрессией, способами её обучения и измерением качества ее прогнозов. \n",
    "\n",
    "Будем рассматривать датасет из предыдущей части задания для предсказания времени задержки отправления рейса в минутах (DepDelay). Отметим, что под задержкой подразумевается не только опоздание рейса относительно планируемого времени вылета, но и отправление до планируемого времени.\n",
    "\n",
    "### Подготовка данных\n",
    "\n",
    "**12. (0.5 балла)** Считайте выборку из файла при помощи функции pd.read_csv и ответьте на следующие вопросы:\n",
    "   - Имеются ли в данных пропущенные значения?\n",
    "   - Сколько всего пропущенных элементов в таблице \"объект-признак\"?\n",
    "   - Сколько объектов имеют хотя бы один пропуск?\n",
    "   - Сколько признаков имеют хотя бы одно пропущенное значение?"
   ]
  },
  {
   "cell_type": "code",
   "execution_count": 65,
   "metadata": {
    "collapsed": false,
    "scrolled": true
   },
   "outputs": [
    {
     "name": "stdout",
     "output_type": "stream",
     "text": [
      "Имеются ли в данных пропущенные значения: Да\n",
      "Всего пропущенных элементов в таблице: 411549\n",
      "Количество объектов с хотя бы одним пропуском: 50000\n",
      "Количество признаков с хотя бы одним пропуском: 15\n"
     ]
    }
   ],
   "source": [
    "has_missing = df.isnull().any().any()\n",
    "print(f\"Имеются ли в данных пропущенные значения: {'Да' if has_missing else 'Нет'}\")\n",
    "\n",
    "total_missing = df.isnull().sum().sum()\n",
    "print(f\"Всего пропущенных элементов в таблице: {total_missing}\")\n",
    "\n",
    "objects_with_missing = df.isnull().any(axis=1).sum()\n",
    "print(f\"Количество объектов с хотя бы одним пропуском: {objects_with_missing}\")\n",
    "\n",
    "features_with_missing = df.isnull().any(axis=0).sum()\n",
    "print(f\"Количество признаков с хотя бы одним пропуском: {features_with_missing}\")"
   ]
  },
  {
   "cell_type": "markdown",
   "metadata": {},
   "source": [
    "Как вы понимаете, также не имеет смысла рассматривать при решении поставленной задачи объекты с пропущенным значением целевой переменной. В связи с этим ответьте на следующие вопросы и выполните соответствующие действия:\n",
    "- Имеются ли пропущенные значения в целевой переменной?\n",
    "- Проанализируйте объекты с пропущенными значениями целевой переменной. Чем вызвано это явление? Что их объединяет? Можно ли в связи с этим, на ваш взгляд, исключить какие-то признаки из рассмотрения? Обоснуйте свою точку зрения.\n",
    "\n",
    "Исключите из выборки объекты **с пропущенным значением целевой переменной и со значением целевой переменной, равным 0**, а также при необходимости исключите признаки в соответствии с вашим ответом на последний вопрос из списка и выделите целевую переменную в отдельный вектор, исключив её из матрицы \"объект-признак\"."
   ]
  },
  {
   "cell_type": "code",
   "execution_count": 66,
   "metadata": {
    "collapsed": true
   },
   "outputs": [
    {
     "name": "stdout",
     "output_type": "stream",
     "text": [
      "Количество пропущенных значений в целевой переменной: 17032\n",
      "\n",
      "Размер выборки после очистки: 30003\n",
      "Размер матрицы признаков: (30003, 29)\n",
      "Размер вектора целевой переменной: (30003,)\n"
     ]
    }
   ],
   "source": [
    "target_missing = df['DepDelay'].isnull().sum()\n",
    "print(f\"Количество пропущенных значений в целевой переменной: {target_missing}\")\n",
    "\n",
    "df_clean = df[~df['DepDelay'].isnull() & (df['DepDelay'] != 0)]\n",
    "\n",
    "print(f\"\\nРазмер выборки после очистки: {len(df_clean)}\")\n",
    "\n",
    "# Выделяем целевую переменную\n",
    "y = df_clean['DepDelay']\n",
    "X = df_clean.drop('DepDelay', axis=1)\n",
    "\n",
    "print(f\"Размер матрицы признаков: {X.shape}\")\n",
    "print(f\"Размер вектора целевой переменной: {y.shape}\")"
   ]
  },
  {
   "cell_type": "markdown",
   "metadata": {},
   "source": [
    "**13. (0.5 балла)** Обратите внимание, что признаки DepTime, CRSDepTime, ArrTime, CRSArrTime приведены в формате hhmm, в связи с чем будет не вполне корректно рассматривать их как вещественные.\n",
    "\n",
    "Преобразуйте каждый признак FeatureName из указанных в пару новых признаков FeatureName\\_Hour, FeatureName\\_Minute, разделив каждое из значений на часы и минуты. Не забудьте при этом исключить исходный признак из выборки. В случае, если значение признака отсутствует, значения двух новых признаков, его заменяющих, также должны отсутствовать. \n",
    "\n",
    "Например, признак DepTime необходимо заменить на пару признаков DepTime_Hour, DepTime_Minute. При этом, например, значение 155 исходного признака будет преобразовано в значения 1 и 55 признаков DepTime_Hour, DepTime_Minute соответственно."
   ]
  },
  {
   "cell_type": "code",
   "execution_count": 67,
   "metadata": {
    "collapsed": true
   },
   "outputs": [
    {
     "name": "stdout",
     "output_type": "stream",
     "text": [
      "Новые признаки:\n",
      "\n",
      "DepTime:\n",
      "Часы: 0   NaN\n",
      "1   NaN\n",
      "2   NaN\n",
      "3   NaN\n",
      "4   NaN\n",
      "Name: DepTime_Hour, dtype: float64\n",
      "Минуты: 0   NaN\n",
      "1   NaN\n",
      "2   NaN\n",
      "3   NaN\n",
      "4   NaN\n",
      "Name: DepTime_Minute, dtype: float64\n",
      "\n",
      "CRSDepTime:\n",
      "Часы: 0    10\n",
      "1    10\n",
      "2    10\n",
      "3    10\n",
      "4    10\n",
      "Name: CRSDepTime_Hour, dtype: int64\n",
      "Минуты: 0    0\n",
      "1    0\n",
      "2    0\n",
      "3    0\n",
      "4    0\n",
      "Name: CRSDepTime_Minute, dtype: int64\n",
      "\n",
      "ArrTime:\n",
      "Часы: 0   NaN\n",
      "1   NaN\n",
      "2   NaN\n",
      "3   NaN\n",
      "4   NaN\n",
      "Name: ArrTime_Hour, dtype: float64\n",
      "Минуты: 0   NaN\n",
      "1   NaN\n",
      "2   NaN\n",
      "3   NaN\n",
      "4   NaN\n",
      "Name: ArrTime_Minute, dtype: float64\n",
      "\n",
      "CRSArrTime:\n",
      "Часы: 0    11\n",
      "1    11\n",
      "2    11\n",
      "3    12\n",
      "4    12\n",
      "Name: CRSArrTime_Hour, dtype: int64\n",
      "Минуты: 0     0\n",
      "1    10\n",
      "2    25\n",
      "3    27\n",
      "4    27\n",
      "Name: CRSArrTime_Minute, dtype: int64\n"
     ]
    }
   ],
   "source": [
    "time_features = ['DepTime', 'CRSDepTime', 'ArrTime', 'CRSArrTime']\n",
    "    \n",
    "\n",
    "df_new = df.copy()\n",
    "\n",
    "\n",
    "for feature in time_features:\n",
    "    if feature in df.columns:\n",
    "\n",
    "        df_new[f'{feature}_Hour'] = df[feature].apply(lambda x: int(float(str(x).zfill(4)[:2])) if pd.notnull(x) and str(x).replace('.', '').isdigit() else np.nan)\n",
    "        df_new[f'{feature}_Minute'] = df[feature].apply(lambda x: int(float(str(x).zfill(4)[2:])) if pd.notnull(x) and str(x).replace('.', '').isdigit() else np.nan)\n",
    "\n",
    "        df_new = df_new.drop(feature, axis=1)\n",
    "        \n",
    "print(\"Новые признаки:\")\n",
    "for feature in ['DepTime', 'CRSDepTime', 'ArrTime', 'CRSArrTime']:\n",
    "    print(f\"\\n{feature}:\")\n",
    "    print(f\"Часы: {df_new[f'{feature}_Hour'].head()}\")\n",
    "    print(f\"Минуты: {df_new[f'{feature}_Minute'].head()}\")"
   ]
  },
  {
   "cell_type": "markdown",
   "metadata": {},
   "source": [
    "**14. (0.5 балла)** Некоторые из признаков, отличных от целевой переменной, могут оказывать чересчур значимое влияние на прогноз, поскольку по своему смыслу содержат большую долю информации о значении целевой переменной. Изучите описание датасета и исключите признаки, сильно коррелирующие с ответами. Ваш выбор признаков для исключения из выборки обоснуйте. Кроме того, исключите признаки TailNum и Year."
   ]
  },
  {
   "cell_type": "code",
   "execution_count": 68,
   "metadata": {
    "collapsed": true
   },
   "outputs": [
    {
     "name": "stdout",
     "output_type": "stream",
     "text": [
      "\n",
      "Оставшиеся признаки: ['Unnamed: 0', 'Month', 'DayofMonth', 'DayOfWeek', 'UniqueCarrier', 'FlightNum', 'ActualElapsedTime', 'CRSElapsedTime', 'AirTime', 'DepDelay', 'Origin', 'Dest', 'Distance', 'TaxiIn', 'TaxiOut', 'Cancelled', 'CancellationCode', 'Diverted', 'CarrierDelay', 'WeatherDelay', 'NASDelay', 'SecurityDelay', 'LateAircraftDelay', 'DepTime_Hour', 'DepTime_Minute', 'CRSDepTime_Hour', 'CRSDepTime_Minute', 'ArrTime_Hour', 'ArrTime_Minute', 'CRSArrTime_Hour', 'CRSArrTime_Minute']\n"
     ]
    }
   ],
   "source": [
    "df_new = df_new.drop(['TailNum', 'Year'], axis=1)\n",
    "features_to_drop = ['ArrDelay']\n",
    "df_new = df_new.drop(features_to_drop, axis=1)\n",
    "\n",
    "print(\"\\nОставшиеся признаки:\", list(df_new.columns))"
   ]
  },
  {
   "cell_type": "markdown",
   "metadata": {},
   "source": [
    "**15. (1 балл)** Приведем данные к виду, пригодному для обучения линейных моделей. Для этого вещественные признаки надо отмасштабировать, а категориальные — привести к числовому виду. Также надо устранить пропуски в данных."
   ]
  },
  {
   "cell_type": "markdown",
   "metadata": {},
   "source": [
    "В первую очередь поймем, зачем необходимо применять масштабирование. Следующие ячейки с кодом построят гистограммы для 3 вещественных признаков выборки."
   ]
  },
  {
   "cell_type": "code",
   "execution_count": 69,
   "metadata": {
    "collapsed": false,
    "scrolled": true
   },
   "outputs": [
    {
     "data": {
      "text/plain": [
       "<Axes: >"
      ]
     },
     "execution_count": 69,
     "metadata": {},
     "output_type": "execute_result"
    },
    {
     "data": {
      "image/png": "[encoded data removed]",
      "text/plain": [
       "<Figure size 640x480 with 1 Axes>"
      ]
     },
     "metadata": {},
     "output_type": "display_data"
    }
   ],
   "source": [
    "df_new['DepTime_Hour'].hist(bins=20)"
   ]
  },
  {
   "cell_type": "code",
   "execution_count": 70,
   "metadata": {
    "collapsed": false
   },
   "outputs": [
    {
     "data": {
      "text/plain": [
       "<Axes: >"
      ]
     },
     "execution_count": 70,
     "metadata": {},
     "output_type": "execute_result"
    },
    {
     "data": {
      "image/png": "[encoded data removed]",
      "text/plain": [
       "<Figure size 640x480 with 1 Axes>"
      ]
     },
     "metadata": {},
     "output_type": "display_data"
    }
   ],
   "source": [
    "df_new['TaxiIn'].hist(bins=20)"
   ]
  },
  {
   "cell_type": "code",
   "execution_count": 71,
   "metadata": {
    "collapsed": false
   },
   "outputs": [
    {
     "data": {
      "text/plain": [
       "<Axes: >"
      ]
     },
     "execution_count": 71,
     "metadata": {},
     "output_type": "execute_result"
    },
    {
     "data": {
      "image/png": "[encoded data removed]",
      "text/plain": [
       "<Figure size 640x480 with 1 Axes>"
      ]
     },
     "metadata": {},
     "output_type": "display_data"
    }
   ],
   "source": [
    "df_new['FlightNum'].hist(bins=20)"
   ]
  },
  {
   "cell_type": "markdown",
   "metadata": {},
   "source": [
    "Какую проблему вы наблюдаете на этих графиках? Как масштабирование поможет её исправить?"
   ]
  },
  {
   "cell_type": "raw",
   "metadata": {
    "vscode": {
     "languageId": "raw"
    }
   },
   "source": [
    "Разные масштабы признаков\n",
    "признаки имеют очень большой разброс значений\n",
    "Признаки измеряются в разных единицах измерения\n",
    "Диапазоны значений сильно отличаются друг от друга\n",
    "\n",
    "После стандартизации все признаки будут иметь среднее значение 0 и стандартное отклонение 1"
   ]
  },
  {
   "cell_type": "markdown",
   "metadata": {},
   "source": [
    "Некоторые из признаков в нашем датасете являются категориальными. Типичным подходом к работе с ними является бинарное, или [one-hot-кодирование](https://en.wikipedia.org/wiki/One-hot).\n",
    "\n",
    "Реализуйте функцию transform_data, которая принимает на вход DataFrame с признаками и выполняет следующие шаги:\n",
    "1. Замена пропущенных значений на нули для вещественных признаков и на строки 'nan' для категориальных.\n",
    "2. Масштабирование вещественных признаков с помощью [StandardScaler](http://scikit-learn.org/stable/modules/generated/sklearn.preprocessing.StandardScaler.html).\n",
    "3. One-hot-кодирование категориальных признаков с помощью [DictVectorizer](http://scikit-learn.org/stable/modules/generated/sklearn.feature_extraction.DictVectorizer.html) или функции [pd.get_dummies](http://pandas.pydata.org/pandas-docs/stable/generated/pandas.get_dummies.html).\n",
    "\n",
    "Метод должен возвращать преобразованный DataFrame, который должна состоять из масштабированных вещественных признаков и закодированных категориальных (исходные признаки должны быть исключены из выборки)."
   ]
  },
  {
   "cell_type": "code",
   "execution_count": 78,
   "metadata": {
    "collapsed": true
   },
   "outputs": [
    {
     "name": "stdout",
     "output_type": "stream",
     "text": [
      "Исходный датафрейм:\n",
      "       Unnamed: 0  Month  DayofMonth  DayOfWeek UniqueCarrier  FlightNum  \\\n",
      "0               1     12           1          1            WN         16   \n",
      "1               2     12           1          1            US       2122   \n",
      "2               3     12           1          1            MQ       3155   \n",
      "3               4     12           1          1            EV       4980   \n",
      "4               5     12           1          1            NW       1406   \n",
      "...           ...    ...         ...        ...           ...        ...   \n",
      "49995       49996     12          13          6            YV       2891   \n",
      "49996       49997     12          13          6            CO        414   \n",
      "49997       49998     12          13          6            WN        505   \n",
      "49998       49999     12          13          6            AA       1336   \n",
      "49999       50000     12          13          6            MQ       4673   \n",
      "\n",
      "       ActualElapsedTime  CRSElapsedTime  AirTime  DepDelay  ...  \\\n",
      "0                    NaN              60      NaN       NaN  ...   \n",
      "1                    NaN              70      NaN       NaN  ...   \n",
      "2                    NaN              85      NaN       NaN  ...   \n",
      "3                    NaN              87      NaN       NaN  ...   \n",
      "4                    NaN              87      NaN       NaN  ...   \n",
      "...                  ...             ...      ...       ...  ...   \n",
      "49995               55.0              54     29.0      -5.0  ...   \n",
      "49996               61.0              66     41.0      -5.0  ...   \n",
      "49997               80.0              90     68.0      -5.0  ...   \n",
      "49998               93.0              95     75.0      -5.0  ...   \n",
      "49999               89.0              95     65.0       6.0  ...   \n",
      "\n",
      "      SecurityDelay LateAircraftDelay  DepTime_Hour  DepTime_Minute  \\\n",
      "0               NaN               NaN           NaN             NaN   \n",
      "1               NaN               NaN           NaN             NaN   \n",
      "2               NaN               NaN           NaN             NaN   \n",
      "3               NaN               NaN           NaN             NaN   \n",
      "4               NaN               NaN           NaN             NaN   \n",
      "...             ...               ...           ...             ...   \n",
      "49995           NaN               NaN          80.0             5.0   \n",
      "49996           NaN               NaN          80.0             5.0   \n",
      "49997           NaN               NaN          80.0             5.0   \n",
      "49998           NaN               NaN          80.0             5.0   \n",
      "49999           NaN               NaN          80.0             6.0   \n",
      "\n",
      "       CRSDepTime_Hour  CRSDepTime_Minute ArrTime_Hour  ArrTime_Minute  \\\n",
      "0                   10                  0          NaN             NaN   \n",
      "1                   10                  0          NaN             NaN   \n",
      "2                   10                  0          NaN             NaN   \n",
      "3                   10                  0          NaN             NaN   \n",
      "4                   10                  0          NaN             NaN   \n",
      "...                ...                ...          ...             ...   \n",
      "49995                8                 10         90.0             0.0   \n",
      "49996                8                 10         90.0             6.0   \n",
      "49997                8                 10         92.0             5.0   \n",
      "49998                8                 10         93.0             8.0   \n",
      "49999                8                  0         93.0             5.0   \n",
      "\n",
      "       CRSArrTime_Hour  CRSArrTime_Minute  \n",
      "0                   11                  0  \n",
      "1                   11                 10  \n",
      "2                   11                 25  \n",
      "3                   12                 27  \n",
      "4                   12                 27  \n",
      "...                ...                ...  \n",
      "49995                9                  4  \n",
      "49996                9                 16  \n",
      "49997                9                 40  \n",
      "49998                9                 45  \n",
      "49999                9                 35  \n",
      "\n",
      "[50000 rows x 31 columns]\n",
      "\n",
      "Преобразованный датафрейм:\n",
      "       Unnamed: 0  Year  DayofMonth   DepTime  CRSDepTime   ArrTime  \\\n",
      "17032   -1.727819   0.0   -1.247946 -0.570881   -0.627865 -2.929494   \n",
      "17033   -1.727714   0.0   -1.247946 -0.138141   -0.396306 -2.929494   \n",
      "17034   -1.727609   0.0   -1.247946  0.122579   -0.361705 -2.929494   \n",
      "17035   -1.727504   0.0   -1.247946  0.273097    0.215863 -2.929494   \n",
      "17037   -1.727294   0.0    1.512526 -2.008870    3.537540 -2.929494   \n",
      "...           ...   ...         ...       ...         ...       ...   \n",
      "49995    1.734650   0.0    0.960432  0.136018    0.090767  0.581569   \n",
      "49996    1.734755   0.0    0.960432  0.136018    0.090767  0.604977   \n",
      "49997    1.734860   0.0    0.960432  0.136018    0.090767  0.679099   \n",
      "49998    1.734965   0.0    0.960432  0.136018    0.090767  0.729814   \n",
      "49999    1.735070   0.0    0.960432  0.138706    0.064151  0.718111   \n",
      "\n",
      "       CRSArrTime  FlightNum  ActualElapsedTime  CRSElapsedTime  ...  \\\n",
      "17032   -0.668607   1.639662          -1.784491       -0.829402  ...   \n",
      "17033   -0.418000   1.483140          -1.784491       -1.078788  ...   \n",
      "17034    0.402480   2.162542          -1.784491        0.453155  ...   \n",
      "17035    0.749210  -0.828003          -1.784491        1.236940  ...   \n",
      "17037   -2.814213  -0.755612          -1.784491        0.417529  ...   \n",
      "...           ...        ...                ...             ...  ...   \n",
      "49995    0.220533   0.253465          -0.844365       -1.025348  ...   \n",
      "49996    0.261728  -0.958112          -0.741806       -0.811589  ...   \n",
      "49997    0.344119  -0.913601          -0.417036       -0.384070  ...   \n",
      "49998    0.361284  -0.507134          -0.194824       -0.295003  ...   \n",
      "49999    0.326955   1.125096          -0.263197       -0.295003  ...   \n",
      "\n",
      "       TailNum_N996DL  TailNum_N997AT  TailNum_N997DL  TailNum_N998AT  \\\n",
      "17032           False           False           False           False   \n",
      "17033           False           False           False           False   \n",
      "17034           False           False           False           False   \n",
      "17035           False           False           False           False   \n",
      "17037           False           False           False           False   \n",
      "...               ...             ...             ...             ...   \n",
      "49995           False           False           False           False   \n",
      "49996           False           False           False           False   \n",
      "49997           False           False           False           False   \n",
      "49998           False           False           False           False   \n",
      "49999           False           False           False           False   \n",
      "\n",
      "       TailNum_N998DL  TailNum_N999DN  CancellationCode_A  CancellationCode_B  \\\n",
      "17032           False           False               False               False   \n",
      "17033           False           False               False                True   \n",
      "17034           False           False               False               False   \n",
      "17035           False           False               False               False   \n",
      "17037           False           False                True               False   \n",
      "...               ...             ...                 ...                 ...   \n",
      "49995           False           False               False               False   \n",
      "49996           False           False               False               False   \n",
      "49997           False           False               False               False   \n",
      "49998           False           False               False               False   \n",
      "49999           False           False               False               False   \n",
      "\n",
      "       CancellationCode_C  CancellationCode_nan  \n",
      "17032               False                  True  \n",
      "17033               False                 False  \n",
      "17034               False                  True  \n",
      "17035               False                  True  \n",
      "17037               False                 False  \n",
      "...                   ...                   ...  \n",
      "49995               False                  True  \n",
      "49996               False                  True  \n",
      "49997               False                  True  \n",
      "49998               False                  True  \n",
      "49999               False                  True  \n",
      "\n",
      "[30003 rows x 4713 columns]\n"
     ]
    }
   ],
   "source": [
    "from sklearn.preprocessing import StandardScaler\n",
    "def transform_data(data):\n",
    "    df = data.copy()\n",
    "    \n",
    "    categorical_features = ['Month', 'DayOfWeek', \"UniqueCarrier\", 'Origin', 'Dest']\n",
    "    \n",
    "    numerical_features = [col for col in df.columns if col not in categorical_features]\n",
    "    \n",
    "    true_numerical_features = []\n",
    "    for feature in numerical_features:\n",
    "        try:\n",
    "            pd.to_numeric(df[feature], errors='raise')\n",
    "            true_numerical_features.append(feature)\n",
    "        except (ValueError, TypeError):\n",
    "            categorical_features.append(feature)\n",
    "    \n",
    "    # Обновляем список числовых признаков\n",
    "    numerical_features = true_numerical_features\n",
    "    # 1. Замена пропущенных значений\n",
    "    # Для числовых признаков\n",
    "    for feature in numerical_features:\n",
    "        df[feature] = df[feature].fillna(0)\n",
    "    \n",
    "    # Для категориальных признаков\n",
    "    for feature in categorical_features:\n",
    "        df[feature] = df[feature].fillna('nan')\n",
    "    \n",
    "    # 2. Масштабирование числовых признаков\n",
    "    if numerical_features:\n",
    "        scaler = StandardScaler()\n",
    "        df[numerical_features] = scaler.fit_transform(df[numerical_features])\n",
    "    \n",
    "    # 3. One-hot-кодирование категориальных признаков\n",
    "    df = pd.get_dummies(df, columns=categorical_features, prefix=categorical_features)\n",
    "    \n",
    "    return df\n",
    "\n",
    "result_df = transform_data(X)\n",
    "    \n",
    "print(\"Исходный датафрейм:\")\n",
    "print(df_new)\n",
    "print(\"\\nПреобразованный датафрейм:\")\n",
    "print(result_df) "
   ]
  },
  {
   "cell_type": "markdown",
   "metadata": {},
   "source": [
    "**16. (0.5 балла)** Разбейте выборку и вектор целевой переменной на обучение и контроль в отношении 70/30 (для этого можно использовать, например, функцию [train_test_split](http://scikit-learn.org/stable/modules/generated/sklearn.cross_validation.train_test_split.html)). "
   ]
  },
  {
   "cell_type": "code",
   "execution_count": 79,
   "metadata": {
    "collapsed": true
   },
   "outputs": [],
   "source": [
    "\n",
    "from sklearn.model_selection import train_test_split\n",
    "\n",
    "X_train, X_test, y_train, y_test = train_test_split(X, y, test_size=0.3, random_state=42)"
   ]
  },
  {
   "cell_type": "markdown",
   "metadata": {},
   "source": [
    "### Scikit-learn\n",
    "\n",
    "<img src = \"https://pp.vk.me/c4534/u35727827/93547647/x_d31c4463.jpg\">\n",
    "Теперь, когда мы привели данные к пригодному виду, попробуем решить задачу при помощи метода наименьших квадратов. Напомним, что данный метод заключается в оптимизации функционала $MSE$:\n",
    "\n",
    "$$MSE(X, y) = \\frac{1}{l} \\sum_{i=1}^l (<w, x_i> - y_i)^2 \\to \\min_{w},$$\n",
    "\n",
    "где $\\{ (x_i, y_i ) \\}_{i=1}^l$ — обучающая выборка, состоящая из $l$ пар объект-ответ.\n",
    "\n",
    "Заметим, что решение данной задачи уже реализовано в модуле sklearn в виде класса [LinearRegression](http://scikit-learn.org/stable/modules/generated/sklearn.linear_model.LinearRegression.html#sklearn.linear_model.LinearRegression).\n",
    "\n",
    "**17. (0.5 балла)** Обучите линейную регрессию на 1000 объектах из обучающей выборки и выведите значения $MSE$ и $R^2$ на этой подвыборке и контрольной выборке (итого 4 различных числа). Проинтерпретируйте полученный результат — насколько качественные прогнозы строит полученная модель? Какие проблемы наблюдаются в модели?\n",
    "\n",
    "**Подсказка**: изучите значения полученных коэффициентов $w$, сохраненных в атрибуте coef_ объекта LinearRegression."
   ]
  },
  {
   "cell_type": "code",
   "execution_count": 85,
   "metadata": {
    "collapsed": true
   },
   "outputs": [
    {
     "name": "stdout",
     "output_type": "stream",
     "text": [
      "Metrics on training sample (1000 objects):\n",
      "MSE: 1.07\n",
      "R2: 1.00\n",
      "\n",
      "Metrics on test set:\n",
      "MSE: 65434.14\n",
      "R2: -121.89\n",
      "\n",
      "Top 10 most influential features:\n",
      "             Feature  Coefficient\n",
      "4188  TailNum_N904DA  1631.041844\n",
      "531         Dest_SIT  1580.189580\n",
      "1490  TailNum_N331UA  1531.755174\n",
      "3844  TailNum_N785SW  1483.941916\n",
      "857   TailNum_N14148  1379.758359\n",
      "2146  TailNum_N455WN  1378.975892\n",
      "2518  TailNum_N523SW  1343.122979\n",
      "3992  TailNum_N824UA  1281.348282\n",
      "1563  TailNum_N345NW  1275.764105\n",
      "744   TailNum_N12114  1252.669164\n"
     ]
    }
   ],
   "source": [
    "from sklearn.linear_model import LinearRegression\n",
    "from sklearn.metrics import mean_squared_error, r2_score\n",
    "\n",
    "# Use the transformed data\n",
    "X_transformed = result_df\n",
    "y_target = y  # This is the target variable (DepDelay)\n",
    "\n",
    "# Split the transformed data\n",
    "X_train_transformed = X_transformed[:int(0.7 * len(X_transformed))]\n",
    "X_test_transformed = X_transformed[int(0.7 * len(X_transformed)):]\n",
    "y_train = y_target[:int(0.7 * len(y_target))]\n",
    "y_test = y_target[int(0.7 * len(y_target)):]\n",
    "\n",
    "# Take 1000 samples from training data\n",
    "X_train_sample = X_train_transformed[:1000]\n",
    "y_train_sample = y_train[:1000]\n",
    "\n",
    "# Create and train the model\n",
    "model = LinearRegression()\n",
    "model.fit(X_train_sample, y_train_sample)\n",
    "\n",
    "# Make predictions\n",
    "y_train_pred = model.predict(X_train_sample)\n",
    "y_test_pred = model.predict(X_test_transformed)\n",
    "\n",
    "# Calculate metrics\n",
    "train_mse = mean_squared_error(y_train_sample, y_train_pred)\n",
    "test_mse = mean_squared_error(y_test, y_test_pred)\n",
    "train_r2 = r2_score(y_train_sample, y_train_pred)\n",
    "test_r2 = r2_score(y_test, y_test_pred)\n",
    "\n",
    "print(\"Metrics on training sample (1000 objects):\")\n",
    "print(f\"MSE: {train_mse:.2f}\")\n",
    "print(f\"R2: {train_r2:.2f}\")\n",
    "print(\"\\nMetrics on test set:\")\n",
    "print(f\"MSE: {test_mse:.2f}\")\n",
    "print(f\"R2: {test_r2:.2f}\")\n",
    "\n",
    "print(\"\\nTop 10 most influential features:\")\n",
    "feature_importance = pd.DataFrame({\n",
    "    'Feature': X_train_transformed.columns,\n",
    "    'Coefficient': model.coef_\n",
    "})\n",
    "feature_importance = feature_importance.sort_values('Coefficient', key=abs, ascending=False)\n",
    "print(feature_importance.head(10))"
   ]
  },
  {
   "cell_type": "markdown",
   "metadata": {
    "collapsed": true
   },
   "source": [
    "Для решения описанных вами в предыдущем пункте проблем используем L1- или L2-регуляризацию, тем самым получив Lasso и Ridge регрессии соответственно и изменив оптимизационную задачу одним из следующих образов:\n",
    "$$MSE_{L1}(X, y) = \\frac{1}{l} \\sum_{i=1}^l (<w, x_i> - y_i)^2 + \\alpha ||w||_1 \\to \\min_{w},$$\n",
    "$$MSE_{L2}(X, y) = \\frac{1}{l} \\sum_{i=1}^l (<w, x_i> - y_i)^2 + \\alpha ||w||_2^2 \\to \\min_{w},$$\n",
    "\n",
    "где $\\alpha$ — коэффициент регуляризации. Один из способов его подбора заключается в переборе некоторого количества значений и оценке качества на кросс-валидации для каждого из них, после чего выбирается значение, для которого было получено наилучшее качество.\n",
    "\n",
    "**18. (0.5 балла)** Обучите линейные регрессии с L1- и L2-регуляризатором, подобрав лучшее значение параметра регуляризации из списка alpha_grid при помощи кросс-валидации c 5 фолдами на тех же 1000 объектах, что и в п.17. Выведите значения $MSE$ и $R^2$ на обучающей и контрольной выборках. Удалось ли решить указанные вами ранее проблемы?\n",
    "\n",
    "Для выполнения данного задания вам могут понадобиться реализованные в библиотеке объекты [LassoCV](http://scikit-learn.org/stable/modules/generated/sklearn.linear_model.LassoCV.html), [RidgeCV](http://scikit-learn.org/stable/modules/generated/sklearn.linear_model.RidgeCV.html) и [KFold](http://scikit-learn.org/stable/modules/generated/sklearn.cross_validation.KFold.html).\n"
   ]
  },
  {
   "cell_type": "code",
   "execution_count": null,
   "metadata": {
    "collapsed": false
   },
   "outputs": [],
   "source": [
    "# Your code here"
   ]
  },
  {
   "cell_type": "markdown",
   "metadata": {},
   "source": [
    "### Градиентный спуск\n",
    "\n",
    "В предыдущем разделе мы использовали существующие реализации методов обучения линейной регрессии с регуляризацией и без. Тем не менее, подобные реализации, как правило, имеются лишь для ограниченного набора стандартных методов. В частности, при выходе функционала качества за пределы стандартного множества необходимо самостоятельно реализовывать составляющие процесса решения оптимизационной задачи. Именно этому и посвящен данный раздел задания.\n",
    "\n",
    "Пусть необходимо минимизировать следующий функционал (Mean Square Percentage Error — модифицированный [RMSPE](https://www.kaggle.com/c/rossmann-store-sales/details/evaluation)):\n",
    "$$MSPE(\\{x_i, y_i\\}_{i=1}^l, \\, w) = \\frac{1}{l}\\sum_{i=1}^l \\left( \\frac{y_i - \\langle w, x_i \\rangle }{y_i} \\right)^2,$$\n",
    "\n",
    "где $\\{x_i, y_i\\}_{i=1}^l$ — обучающая выборка, $w$ — вектор весов линейной модели. \n",
    "Градиент MSPE по $w$ можно вычислить следующим образом:\n",
    "\n",
    "$$ \\frac{\\partial}{\\partial w} MSPE(w) = \\frac{\\partial}{\\partial w} [\\frac{1}{l} \\frac{y^Ty - y^TXw - w^TX^Ty + w^TX^TXw}{y^Ty}]. $$\n",
    "\n",
    "Продифференцируем каждое слагаемое отдельно.\n",
    "\n",
    "$ \\frac{\\partial}{\\partial w} [\\frac{y^Ty}{y^Ty}] = 0. $\n",
    "\n",
    "$ \\frac{\\partial}{\\partial w} [\\frac{- y^TXw}{y^Ty}] = \\frac{-X^Ty}{y^Ty}. $\n",
    "\n",
    "$ \\frac{\\partial}{\\partial w} [\\frac{- w^TX^Ty}{y^Ty}] = \\frac{-X^Ty}{y^Ty}. $\n",
    "\n",
    "$ \\frac{\\partial}{\\partial w} [\\frac{w^TX^TXw}{y^Ty}] = \\frac{2X^TXw}{y^Ty}. $\n",
    "\n",
    "Получаем уравнение для градиента MSPE:\n",
    "\n",
    "$$ \\frac{\\partial}{\\partial w} MSPE(w) = \\frac{2}{l} * \\frac{X^TXw -X^Ty}{y^Ty} = \\frac{2*X^T}{l} * \\frac{Xw - y}{y^Ty}. $$\n",
    "\n",
    "Будем также рассматривать функционал $MSPE$ с L2-регуляризацией:\n",
    "\n",
    "$$MSPE(\\{x_i, y_i\\}_{i=1}^l, \\, w) = \\frac{1}{l}\\sum_{i=1}^l \\left( \\frac{y_i - \\langle w, x_i \\rangle }{y_i} \\right)^2 + ||w||_2^2.$$\n",
    "\n",
    "**19. (0 баллов)** Добавьте к объектам обеих выборок из п. 16 единичный признак."
   ]
  },
  {
   "cell_type": "code",
   "execution_count": null,
   "metadata": {
    "collapsed": true
   },
   "outputs": [],
   "source": [
    "# Your code here"
   ]
  },
  {
   "cell_type": "markdown",
   "metadata": {},
   "source": [
    "**20. (1 балл)** Реализуйте функции, которые вычисляют:\n",
    " * прогнозы линейной модели;\n",
    " * функционал $MSPE$ и его градиент;\n",
    " * регуляризованный $MSPE$ и его градиент.\n"
   ]
  },
  {
   "cell_type": "code",
   "execution_count": null,
   "metadata": {
    "collapsed": true
   },
   "outputs": [],
   "source": [
    "# возвращает вектор прогнозов линейной модели с вектором весов w для выборки X\n",
    "def make_pred(X, w):\n",
    "    pass"
   ]
  },
  {
   "cell_type": "code",
   "execution_count": null,
   "metadata": {
    "collapsed": true
   },
   "outputs": [],
   "source": [
    "# возвращает значение функционала MSPE для выборки (X, y) и вектора весов w\n",
    "def get_func(w, X, y):\n",
    "    pass"
   ]
  },
  {
   "cell_type": "code",
   "execution_count": null,
   "metadata": {
    "collapsed": true
   },
   "outputs": [],
   "source": [
    "# возвращает градиент функционала MSPE для выборки (X, y) и вектора весов w\n",
    "def get_grad(w, X, y):\n",
    "    pass"
   ]
  },
  {
   "cell_type": "code",
   "execution_count": null,
   "metadata": {
    "collapsed": true
   },
   "outputs": [],
   "source": [
    "# возвращает значение регуляризованного функционала MSPE для выборки (X, y) и вектора весов w\n",
    "def get_reg_func(w, X, y):\n",
    "    pass"
   ]
  },
  {
   "cell_type": "code",
   "execution_count": null,
   "metadata": {
    "collapsed": true
   },
   "outputs": [],
   "source": [
    "# возвращает градиент регуляризованного функционала MSPE для выборки (X, y) и вектора весов w\n",
    "def get_reg_grad(w, X, y):\n",
    "    pass"
   ]
  },
  {
   "cell_type": "markdown",
   "metadata": {},
   "source": [
    "**21. (1 балл)** Реализуйте метод градиентного спуска для описанных функционалов ($MSPE$ и его регуляризованный вариант). Функция должна принимать следующие параметры:\n",
    " - X — матрица \"объект-признак\";\n",
    " - y — вектор целевой переменной;\n",
    " - w0 — начальное значение вектора весов;\n",
    " - step_size — значение темпа обучения;\n",
    " - max_iter — максимальное число итераций;\n",
    " - eps — значение, используемое в критерии останова;\n",
    " - is_reg — бинарный параметр, принимает значение True в случае наличия регуляризации функционала, False — в противном случае.\n",
    " \n",
    "Процесс должен быть остановлен, если выполнено хотя бы одно из следующих условий:\n",
    " - было выполнено заданное количество итераций max_iter;\n",
    " - евклидова норма разности векторов $w$ на соседних итерациях стала меньше, чем eps.\n",
    "\n",
    "Функция должна возвращать полученный в результате оптимизации вектор $w$ и список значений функционала на каждой итерации."
   ]
  },
  {
   "cell_type": "code",
   "execution_count": null,
   "metadata": {
    "collapsed": true
   },
   "outputs": [],
   "source": [
    "def grad_descent(X, y, step_size, max_iter, eps, is_reg):\n",
    "    # Your code here"
   ]
  },
  {
   "cell_type": "markdown",
   "metadata": {},
   "source": [
    "Обучите линейную регрессию с функционалом $MSPE$ на обучающей выборке при помощи метода градиентного спуска и изобразите кривые зависимости значения функционала от номера итерации для различных:\n",
    " * значений размера шага из набора [0.001, 1, 10];\n",
    " * способов начальной инициализации вектора весов (нули, случайные веса).\n",
    "\n",
    "Проанализируйте полученные результаты — влияют ли данные параметры на скорость сходимости и итоговое качество? Если да, то как?"
   ]
  },
  {
   "cell_type": "code",
   "execution_count": null,
   "metadata": {
    "collapsed": true
   },
   "outputs": [],
   "source": [
    "# Your code here"
   ]
  },
  {
   "cell_type": "markdown",
   "metadata": {},
   "source": [
    "**22. (0.5 балла)** Обучите линейную регрессию с функционалом MSPE и его регуляризованным вариантом на обучающей выборке при помощи метода градиентного спуска и изобразите кривые зависимости значения функционала от номера итерации. Исследуйте зависимость скорости сходимости от наличия регуляризации. Обоснуйте, почему так происходит."
   ]
  },
  {
   "cell_type": "code",
   "execution_count": null,
   "metadata": {
    "collapsed": true
   },
   "outputs": [],
   "source": [
    "# Your code here"
   ]
  },
  {
   "cell_type": "markdown",
   "metadata": {},
   "source": [
    "Метод градиентного спуска может быть весьма трудозатратен в случае большого размера обучающей выборки. Поэтому часто используют метод стохастического градиентного спуска, где на каждой итерации выбирается случайный объект из обучающей выборки и обновление весов происходит только по этому объекту. \n",
    "\n",
    "**23. (1 доп. балл)**  Реализуйте метод стохастического градиентного спуска (SGD) для описанных функционалов ($MSPE$ и его регуляризованный вариант). Функция должна иметь параметры и возвращаемое значение, аналогичные оным функции grad\\_descent из п.21. Кроме того, должен использоваться аналогичный критерий останова."
   ]
  },
  {
   "cell_type": "code",
   "execution_count": null,
   "metadata": {
    "collapsed": true
   },
   "outputs": [],
   "source": [
    "def sgd(X, y, step_size, max_iter, eps, is_reg):\n",
    "    # Your code here"
   ]
  },
  {
   "cell_type": "markdown",
   "metadata": {},
   "source": [
    "Обучите линейную регрессию с функционалом $MSPE$ и его регуляризованным вариантом на обучающей выборке при помощи метода стохастического градиентного спуска, подобрав при этом размер шага, при котором метод будет сходиться. Нарисуйте график сходимости. Выведите значения $MSPE, MSE, R^2$ на контрольной выборке."
   ]
  },
  {
   "cell_type": "code",
   "execution_count": null,
   "metadata": {
    "collapsed": true
   },
   "outputs": [],
   "source": [
    "# Your code here"
   ]
  },
  {
   "cell_type": "markdown",
   "metadata": {},
   "source": [
    "**24. (0.5 доп. балла)** Аналогично п.22 исследуйте зависимость скорости сходимости метода SGD от наличия регуляризации. Обоснуйте, почему так происходит."
   ]
  },
  {
   "cell_type": "code",
   "execution_count": null,
   "metadata": {
    "collapsed": true
   },
   "outputs": [],
   "source": [
    "# Your code here"
   ]
  },
  {
   "cell_type": "markdown",
   "metadata": {},
   "source": [
    "**25. (0.5 балла)** Обучите стандартную линейную регрессию с функционалом качества MSE на обучающей выборке и выведите значение MSPE полученного решения на контрольной выборке. Как оно соотносится с аналогичным результатом для решения, полученного в п.22? Почему?"
   ]
  },
  {
   "cell_type": "code",
   "execution_count": null,
   "metadata": {
    "collapsed": true
   },
   "outputs": [],
   "source": [
    "# Your code here"
   ]
  },
  {
   "cell_type": "markdown",
   "metadata": {},
   "source": [
    "Здесь вы можете поделиться своими мыслями по поводу этого задания."
   ]
  },
  {
   "cell_type": "code",
   "execution_count": null,
   "metadata": {
    "collapsed": true
   },
   "outputs": [],
   "source": []
  },
  {
   "cell_type": "markdown",
   "metadata": {},
   "source": [
    "А здесь — вставить вашу любимую картинку."
   ]
  },
  {
   "cell_type": "code",
   "execution_count": null,
   "metadata": {
    "collapsed": true
   },
   "outputs": [],
   "source": []
  }
 ],
 "metadata": {
  "kernelspec": {
   "display_name": "Python 3",
   "language": "python",
   "name": "python3"
  },
  "language_info": {
   "codemirror_mode": {
    "name": "ipython",
    "version": 3
   },
   "file_extension": ".py",
   "mimetype": "text/x-python",
   "name": "python",
   "nbconvert_exporter": "python",
   "pygments_lexer": "ipython3",
   "version": "3.10.11"
  }
 },
 "nbformat": 4,
 "nbformat_minor": 0
}
